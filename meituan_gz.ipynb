{
 "cells": [
  {
   "cell_type": "markdown",
   "metadata": {},
   "source": [
    "# 数据读取及清洗"
   ]
  },
  {
   "cell_type": "code",
   "execution_count": 198,
   "metadata": {},
   "outputs": [
    {
     "data": {
      "text/html": [
       "<div>\n",
       "<style scoped>\n",
       "    .dataframe tbody tr th:only-of-type {\n",
       "        vertical-align: middle;\n",
       "    }\n",
       "\n",
       "    .dataframe tbody tr th {\n",
       "        vertical-align: top;\n",
       "    }\n",
       "\n",
       "    .dataframe thead th {\n",
       "        text-align: right;\n",
       "    }\n",
       "</style>\n",
       "<table border=\"1\" class=\"dataframe\">\n",
       "  <thead>\n",
       "    <tr style=\"text-align: right;\">\n",
       "      <th></th>\n",
       "      <th>web-scraper-order</th>\n",
       "      <th>web-scraper-start-url</th>\n",
       "      <th>店铺名称</th>\n",
       "      <th>详情页</th>\n",
       "      <th>详情页-href</th>\n",
       "      <th>店铺评分</th>\n",
       "      <th>人均消费</th>\n",
       "      <th>点评数</th>\n",
       "      <th>店铺地址</th>\n",
       "      <th>店铺电话</th>\n",
       "      <th>营业时间</th>\n",
       "      <th>配套服务</th>\n",
       "      <th>店铺菜系</th>\n",
       "      <th>点评标签</th>\n",
       "      <th>推荐菜1</th>\n",
       "      <th>推荐菜2</th>\n",
       "      <th>推荐菜3</th>\n",
       "    </tr>\n",
       "  </thead>\n",
       "  <tbody>\n",
       "    <tr>\n",
       "      <th>0</th>\n",
       "      <td>1590852747-954</td>\n",
       "      <td>https://gz.meituan.com/meishi/pn1/</td>\n",
       "      <td>焱遇烧烤（金沙洲店）</td>\n",
       "      <td>焱遇烧烤（金沙洲店）3分2条评论白云区横沙大街214号1号铺人均￥60</td>\n",
       "      <td>https://www.meituan.com/meishi/1399342454/</td>\n",
       "      <td>3分</td>\n",
       "      <td>60.0</td>\n",
       "      <td>2.0</td>\n",
       "      <td>地址：白云区横沙大街214号1号铺</td>\n",
       "      <td>13560085375/13926422266</td>\n",
       "      <td>营业时间：周一至周日 17:00-03:00</td>\n",
       "      <td>提供wifi</td>\n",
       "      <td>广州烧烤烤串</td>\n",
       "      <td>NaN</td>\n",
       "      <td>烤羔羊肉串6串</td>\n",
       "      <td>烤亲亲五花肉</td>\n",
       "      <td>烤羔羊排串</td>\n",
       "    </tr>\n",
       "  </tbody>\n",
       "</table>\n",
       "</div>"
      ],
      "text/plain": [
       "  web-scraper-order               web-scraper-start-url        店铺名称  \\\n",
       "0    1590852747-954  https://gz.meituan.com/meishi/pn1/  焱遇烧烤（金沙洲店）   \n",
       "\n",
       "                                   详情页  \\\n",
       "0  焱遇烧烤（金沙洲店）3分2条评论白云区横沙大街214号1号铺人均￥60   \n",
       "\n",
       "                                     详情页-href 店铺评分  人均消费  点评数  \\\n",
       "0  https://www.meituan.com/meishi/1399342454/   3分  60.0  2.0   \n",
       "\n",
       "                店铺地址                     店铺电话                    营业时间    配套服务  \\\n",
       "0  地址：白云区横沙大街214号1号铺  13560085375/13926422266  营业时间：周一至周日 17:00-03:00  提供wifi   \n",
       "\n",
       "     店铺菜系 点评标签     推荐菜1    推荐菜2   推荐菜3  \n",
       "0  广州烧烤烤串  NaN  烤羔羊肉串6串  烤亲亲五花肉  烤羔羊排串  "
      ]
     },
     "execution_count": 198,
     "metadata": {},
     "output_type": "execute_result"
    }
   ],
   "source": [
    "import pandas as pd\n",
    "import numpy as np\n",
    "import warnings#忽略打印的警告\n",
    "warnings.filterwarnings('ignore')\n",
    "df = pd.read_csv('meituan.csv')\n",
    "df.head(1)"
   ]
  },
  {
   "cell_type": "code",
   "execution_count": 199,
   "metadata": {},
   "outputs": [
    {
     "name": "stdout",
     "output_type": "stream",
     "text": [
      "<class 'pandas.core.frame.DataFrame'>\n",
      "RangeIndex: 965 entries, 0 to 964\n",
      "Data columns (total 17 columns):\n",
      "web-scraper-order        965 non-null object\n",
      "web-scraper-start-url    965 non-null object\n",
      "店铺名称                     965 non-null object\n",
      "详情页                      965 non-null object\n",
      "详情页-href                 965 non-null object\n",
      "店铺评分                     913 non-null object\n",
      "人均消费                     909 non-null float64\n",
      "点评数                      906 non-null float64\n",
      "店铺地址                     917 non-null object\n",
      "店铺电话                     917 non-null object\n",
      "营业时间                     910 non-null object\n",
      "配套服务                     819 non-null object\n",
      "店铺菜系                     917 non-null object\n",
      "点评标签                     884 non-null object\n",
      "推荐菜1                     917 non-null object\n",
      "推荐菜2                     917 non-null object\n",
      "推荐菜3                     917 non-null object\n",
      "dtypes: float64(2), object(15)\n",
      "memory usage: 128.3+ KB\n"
     ]
    }
   ],
   "source": [
    "df.info()"
   ]
  },
  {
   "cell_type": "code",
   "execution_count": 200,
   "metadata": {},
   "outputs": [],
   "source": [
    "df.dropna(axis=0, how='any', inplace=True)#删去有缺失值的行"
   ]
  },
  {
   "cell_type": "code",
   "execution_count": 201,
   "metadata": {},
   "outputs": [],
   "source": [
    "#选取要进行分析的列\n",
    "df = df[['店铺名称','店铺评分','人均消费','点评数',\n",
    "         '店铺地址','店铺电话','营业时间','配套服务','店铺菜系','点评标签','推荐菜1','推荐菜2','推荐菜3']]"
   ]
  },
  {
   "cell_type": "markdown",
   "metadata": {},
   "source": [
    "# 广州美食分布"
   ]
  },
  {
   "cell_type": "code",
   "execution_count": 202,
   "metadata": {},
   "outputs": [
    {
     "data": {
      "text/plain": [
       "'C:\\\\Users\\\\Administrator\\\\Desktop\\\\广州美食分布.html'"
      ]
     },
     "execution_count": 202,
     "metadata": {},
     "output_type": "execute_result"
    }
   ],
   "source": [
    "from pyecharts import options as opts\n",
    "from pyecharts.charts import Map\n",
    "from pyecharts.faker import Faker\n",
    "\n",
    "df['店铺区域'] = df['店铺地址'].str[3:6]#提取区域名\n",
    "df['店铺区域'][df['店铺区域'] == '增城市'] = '增城区'\n",
    "df['店铺区域'][df['店铺区域'] == '从化市'] = '从化区'\n",
    "area = df['店铺区域'].value_counts()\n",
    "\n",
    "x = area.index.tolist()\n",
    "y = area.values.tolist()\n",
    "\n",
    "c = (\n",
    "    Map()\n",
    "    .add(\" \", [list(z) for z in zip(x,y)], \"广州\")\n",
    "    .set_global_opts(\n",
    "        title_opts=opts.TitleOpts(title=\"广州美食分布\"), visualmap_opts=opts.VisualMapOpts()\n",
    "    )\n",
    ")\n",
    "c.render('广州美食分布.html')\n",
    "#店铺分布白云区,天河区,番禺区一带"
   ]
  },
  {
   "cell_type": "markdown",
   "metadata": {},
   "source": [
    "# 广州美食种类"
   ]
  },
  {
   "cell_type": "code",
   "execution_count": 203,
   "metadata": {},
   "outputs": [
    {
     "data": {
      "text/plain": [
       "'C:\\\\Users\\\\Administrator\\\\Desktop\\\\美食种类分布.html'"
      ]
     },
     "execution_count": 203,
     "metadata": {},
     "output_type": "execute_result"
    }
   ],
   "source": [
    "from pyecharts import options as opts\n",
    "from pyecharts.charts import Pie\n",
    "\n",
    "df['菜系'] = df['店铺菜系'].str[2:]\n",
    "cuisine = df['菜系'].value_counts()\n",
    "cuisine= cuisine[cuisine>3]#选取数量靠前的菜系\n",
    "\n",
    "x = cuisine.index.tolist()\n",
    "y = cuisine.values.tolist()\n",
    "\n",
    "\n",
    "\n",
    "c = (\n",
    "    Pie()\n",
    "    .add(\n",
    "        \"\",\n",
    "        [list(z) for z in zip(x,y)],\n",
    "        radius=[\"40%\", \"75%\"],\n",
    "    )\n",
    "    .set_global_opts(\n",
    "        title_opts=opts.TitleOpts(title=\"美食种类分布\"),\n",
    "        legend_opts=opts.LegendOpts(orient=\"vertical\", pos_top=\"15%\", pos_left=\"2%\"),\n",
    "    )\n",
    "    .set_series_opts(label_opts=opts.LabelOpts(formatter=\"{b}: {c}\"))\n",
    ")\n",
    "\n",
    "c.render('美食种类分布.html')\n",
    "#粤菜,火锅的数量最多"
   ]
  },
  {
   "cell_type": "markdown",
   "metadata": {},
   "source": [
    "# 店铺评分"
   ]
  },
  {
   "cell_type": "code",
   "execution_count": 204,
   "metadata": {},
   "outputs": [
    {
     "data": {
      "text/plain": [
       "'C:\\\\Users\\\\Administrator\\\\Desktop\\\\店铺评分.html'"
      ]
     },
     "execution_count": 204,
     "metadata": {},
     "output_type": "execute_result"
    }
   ],
   "source": [
    "from pyecharts import options as opts\n",
    "from pyecharts.charts import Bar\n",
    "from pyecharts.globals import ThemeType\n",
    "\n",
    "df['店铺评分'] = df['店铺评分'].str.replace('分','').astype(float)#把分字去掉\n",
    "\n",
    "#评分分级\n",
    "df['评分分级'] = pd.cut(x=df['店铺评分'],bins =[0,0.5,1,1.5,2,2.5,3,3.5,4,4.5,6],\n",
    "                   labels=['0-0.5','0.5-1','1-1.5','1.5-2','2-2.5','2.5-3','3-3.5','3.5-4','4-4.5','4.5-5'])\n",
    "score = df['评分分级'].value_counts()\n",
    "score = score[score>0]\n",
    "\n",
    "x = score.index.tolist()\n",
    "y = score.values.tolist()\n",
    "\n",
    "c = (\n",
    "    Bar(init_opts=opts.InitOpts(theme=ThemeType.LIGHT))\n",
    "        .add_xaxis(x)\n",
    "        .add_yaxis(\"\", y)\n",
    "        .set_series_opts(label_opts=opts.LabelOpts(position='top'))\n",
    "        .set_global_opts(title_opts=opts.TitleOpts(title=\"店铺评分\"))\n",
    "    \n",
    ")\n",
    "c.render('店铺评分.html')\n",
    "#3.5-4分的店铺最多"
   ]
  },
  {
   "cell_type": "markdown",
   "metadata": {},
   "source": [
    "# 各区人均消费"
   ]
  },
  {
   "cell_type": "code",
   "execution_count": 205,
   "metadata": {},
   "outputs": [
    {
     "data": {
      "text/plain": [
       "'C:\\\\Users\\\\Administrator\\\\Desktop\\\\各区人均消费.html'"
      ]
     },
     "execution_count": 205,
     "metadata": {},
     "output_type": "execute_result"
    }
   ],
   "source": [
    "from pyecharts import options as opts\n",
    "from pyecharts.charts import Bar\n",
    "from pyecharts.globals import ThemeType\n",
    "\n",
    "mean_area = df.groupby('店铺区域')['人均消费'].mean().astype(int)#按区域划分人均消费\n",
    "\n",
    "\n",
    "x = mean_area.index.tolist()\n",
    "y = mean_area.values.tolist()\n",
    "\n",
    "c = (\n",
    "    Bar()\n",
    "    .add_xaxis(x)\n",
    "    .add_yaxis(\" \", y)\n",
    "    .set_global_opts(title_opts=opts.TitleOpts(title=\"各区人均消费\"))\n",
    ")\n",
    "c.render('各区人均消费.html')\n",
    "#天河区与海珠区人均消费最高"
   ]
  },
  {
   "cell_type": "markdown",
   "metadata": {},
   "source": [
    "# 白云区美食推荐"
   ]
  },
  {
   "cell_type": "code",
   "execution_count": 210,
   "metadata": {},
   "outputs": [
    {
     "data": {
      "text/html": [
       "<div>\n",
       "<style scoped>\n",
       "    .dataframe tbody tr th:only-of-type {\n",
       "        vertical-align: middle;\n",
       "    }\n",
       "\n",
       "    .dataframe tbody tr th {\n",
       "        vertical-align: top;\n",
       "    }\n",
       "\n",
       "    .dataframe thead th {\n",
       "        text-align: right;\n",
       "    }\n",
       "</style>\n",
       "<table border=\"1\" class=\"dataframe\">\n",
       "  <thead>\n",
       "    <tr style=\"text-align: right;\">\n",
       "      <th></th>\n",
       "      <th>店铺名称</th>\n",
       "      <th>店铺评分</th>\n",
       "      <th>人均消费</th>\n",
       "      <th>点评数</th>\n",
       "      <th>店铺地址</th>\n",
       "      <th>店铺电话</th>\n",
       "      <th>营业时间</th>\n",
       "      <th>配套服务</th>\n",
       "      <th>店铺菜系</th>\n",
       "      <th>点评标签</th>\n",
       "      <th>推荐菜1</th>\n",
       "      <th>推荐菜2</th>\n",
       "      <th>推荐菜3</th>\n",
       "      <th>店铺区域</th>\n",
       "      <th>菜系</th>\n",
       "      <th>评分分级</th>\n",
       "    </tr>\n",
       "  </thead>\n",
       "  <tbody>\n",
       "    <tr>\n",
       "      <th>275</th>\n",
       "      <td>芭蕉亚洲·泰国料理（同和金铂天地店）</td>\n",
       "      <td>5.0</td>\n",
       "      <td>65.0</td>\n",
       "      <td>8967.0</td>\n",
       "      <td>地址：白云区广州大道北同和大街1号金铂天地A座4楼（同和地铁D出口对面）</td>\n",
       "      <td>020-37414420</td>\n",
       "      <td>营业时间：周一至周日 11:30-21:30</td>\n",
       "      <td>提供wifi停车位</td>\n",
       "      <td>广州东南亚菜</td>\n",
       "      <td>上菜快(541)回头客(434)不用排队(59)停车免费(7)下午茶(132)朋友聚餐(30...</td>\n",
       "      <td>酸辣冬阴功汤</td>\n",
       "      <td>马来咖喱牛腩</td>\n",
       "      <td>菠萝炒饭</td>\n",
       "      <td>白云区</td>\n",
       "      <td>东南亚菜</td>\n",
       "      <td>4.5-5</td>\n",
       "    </tr>\n",
       "    <tr>\n",
       "      <th>888</th>\n",
       "      <td>湘食记地道湘菜</td>\n",
       "      <td>5.0</td>\n",
       "      <td>49.0</td>\n",
       "      <td>4621.0</td>\n",
       "      <td>地址：白云区广州大道北白灰场路8号（京溪南方医院c出口）</td>\n",
       "      <td>020-37356888</td>\n",
       "      <td>营业时间：周一至周日 11:00-21:00</td>\n",
       "      <td>提供wifi</td>\n",
       "      <td>广州川湘菜</td>\n",
       "      <td>菜品不错(295)上菜快(248)回头客(175)肉类好(111)交通便利(60)不用排队(...</td>\n",
       "      <td>铁铲鸡</td>\n",
       "      <td>爽口藕尖</td>\n",
       "      <td>老坛剁椒鱼头</td>\n",
       "      <td>白云区</td>\n",
       "      <td>川湘菜</td>\n",
       "      <td>4.5-5</td>\n",
       "    </tr>\n",
       "    <tr>\n",
       "      <th>163</th>\n",
       "      <td>同仁四季音乐主题餐厅（凯德广场云尚店）</td>\n",
       "      <td>5.0</td>\n",
       "      <td>75.0</td>\n",
       "      <td>3786.0</td>\n",
       "      <td>地址：白云区云城西路890号凯德广场B2层30/31号（探鱼对面）</td>\n",
       "      <td>020-86213306/020-86213260</td>\n",
       "      <td>营业时间：周一至周日 10:00-22:00</td>\n",
       "      <td>提供wifi</td>\n",
       "      <td>广州火锅</td>\n",
       "      <td>环境很好(404)味道赞(280)菜品不错(199)回头客(155)肉类好(112)交通便利...</td>\n",
       "      <td>椰子鸡</td>\n",
       "      <td>一级腊味煲仔饭</td>\n",
       "      <td>竹笙</td>\n",
       "      <td>白云区</td>\n",
       "      <td>火锅</td>\n",
       "      <td>4.5-5</td>\n",
       "    </tr>\n",
       "    <tr>\n",
       "      <th>104</th>\n",
       "      <td>佳鑫猪肚鸡（南方医院店）</td>\n",
       "      <td>5.0</td>\n",
       "      <td>53.0</td>\n",
       "      <td>3594.0</td>\n",
       "      <td>地址：白云区白灰场北街2号南方医院正大门对面（嘉裕太阳城外东方大药房煌上煌方向）</td>\n",
       "      <td>020-31523385/18026281720</td>\n",
       "      <td>营业时间：周一至周日 11:00-01:00</td>\n",
       "      <td>提供wifi停车位</td>\n",
       "      <td>广州火锅</td>\n",
       "      <td>回头客(171)上菜快(136)不用排队(28)停车方便(8)冬天吃过瘾(7)朋友聚餐(14...</td>\n",
       "      <td>胡椒猪肚鸡</td>\n",
       "      <td>腊味煲饭</td>\n",
       "      <td>猪肚鸡汤</td>\n",
       "      <td>白云区</td>\n",
       "      <td>火锅</td>\n",
       "      <td>4.5-5</td>\n",
       "    </tr>\n",
       "    <tr>\n",
       "      <th>752</th>\n",
       "      <td>川聚掌门</td>\n",
       "      <td>5.0</td>\n",
       "      <td>51.0</td>\n",
       "      <td>2820.0</td>\n",
       "      <td>地址：白云区广州大道北1420号圣地广场附楼3层（摩登百货旁边）</td>\n",
       "      <td>020-87200366</td>\n",
       "      <td>营业时间：周一至周日 10:00-02:00</td>\n",
       "      <td>提供wifi</td>\n",
       "      <td>广州川湘菜</td>\n",
       "      <td>回头客(324)上菜快(249)肉类好(57)海鲜棒(35)交通便利(14)不用排队(7)朋...</td>\n",
       "      <td>歪嘴辣掌</td>\n",
       "      <td>川江号子鱼</td>\n",
       "      <td>酸菜鱼</td>\n",
       "      <td>白云区</td>\n",
       "      <td>川湘菜</td>\n",
       "      <td>4.5-5</td>\n",
       "    </tr>\n",
       "  </tbody>\n",
       "</table>\n",
       "</div>"
      ],
      "text/plain": [
       "                    店铺名称  店铺评分  人均消费     点评数  \\\n",
       "275   芭蕉亚洲·泰国料理（同和金铂天地店）   5.0  65.0  8967.0   \n",
       "888              湘食记地道湘菜   5.0  49.0  4621.0   \n",
       "163  同仁四季音乐主题餐厅（凯德广场云尚店）   5.0  75.0  3786.0   \n",
       "104         佳鑫猪肚鸡（南方医院店）   5.0  53.0  3594.0   \n",
       "752                 川聚掌门   5.0  51.0  2820.0   \n",
       "\n",
       "                                         店铺地址                       店铺电话  \\\n",
       "275      地址：白云区广州大道北同和大街1号金铂天地A座4楼（同和地铁D出口对面）               020-37414420   \n",
       "888              地址：白云区广州大道北白灰场路8号（京溪南方医院c出口）               020-37356888   \n",
       "163         地址：白云区云城西路890号凯德广场B2层30/31号（探鱼对面）  020-86213306/020-86213260   \n",
       "104  地址：白云区白灰场北街2号南方医院正大门对面（嘉裕太阳城外东方大药房煌上煌方向）   020-31523385/18026281720   \n",
       "752          地址：白云区广州大道北1420号圣地广场附楼3层（摩登百货旁边）               020-87200366   \n",
       "\n",
       "                       营业时间       配套服务    店铺菜系  \\\n",
       "275  营业时间：周一至周日 11:30-21:30  提供wifi停车位  广州东南亚菜   \n",
       "888  营业时间：周一至周日 11:00-21:00     提供wifi   广州川湘菜   \n",
       "163  营业时间：周一至周日 10:00-22:00     提供wifi    广州火锅   \n",
       "104  营业时间：周一至周日 11:00-01:00  提供wifi停车位    广州火锅   \n",
       "752  营业时间：周一至周日 10:00-02:00     提供wifi   广州川湘菜   \n",
       "\n",
       "                                                  点评标签    推荐菜1     推荐菜2  \\\n",
       "275  上菜快(541)回头客(434)不用排队(59)停车免费(7)下午茶(132)朋友聚餐(30...  酸辣冬阴功汤   马来咖喱牛腩   \n",
       "888  菜品不错(295)上菜快(248)回头客(175)肉类好(111)交通便利(60)不用排队(...     铁铲鸡     爽口藕尖   \n",
       "163  环境很好(404)味道赞(280)菜品不错(199)回头客(155)肉类好(112)交通便利...     椰子鸡  一级腊味煲仔饭   \n",
       "104  回头客(171)上菜快(136)不用排队(28)停车方便(8)冬天吃过瘾(7)朋友聚餐(14...   胡椒猪肚鸡     腊味煲饭   \n",
       "752  回头客(324)上菜快(249)肉类好(57)海鲜棒(35)交通便利(14)不用排队(7)朋...    歪嘴辣掌    川江号子鱼   \n",
       "\n",
       "       推荐菜3 店铺区域    菜系   评分分级  \n",
       "275    菠萝炒饭  白云区  东南亚菜  4.5-5  \n",
       "888  老坛剁椒鱼头  白云区   川湘菜  4.5-5  \n",
       "163      竹笙  白云区    火锅  4.5-5  \n",
       "104    猪肚鸡汤  白云区    火锅  4.5-5  \n",
       "752     酸菜鱼  白云区   川湘菜  4.5-5  "
      ]
     },
     "execution_count": 210,
     "metadata": {},
     "output_type": "execute_result"
    }
   ],
   "source": [
    "df_1 = df[df['店铺区域'] == '白云区']\n",
    "recommend_baiyun = df_1.sort_values(by=['店铺评分','点评数','人均消费'],axis=0,ascending=False)#从评分,点评数量排序,选出排名靠前的美食店铺\n",
    "recommend_baiyun.head()"
   ]
  },
  {
   "cell_type": "code",
   "execution_count": null,
   "metadata": {},
   "outputs": [],
   "source": []
  }
 ],
 "metadata": {
  "kernelspec": {
   "display_name": "Python 3",
   "language": "python",
   "name": "python3"
  },
  "language_info": {
   "codemirror_mode": {
    "name": "ipython",
    "version": 3
   },
   "file_extension": ".py",
   "mimetype": "text/x-python",
   "name": "python",
   "nbconvert_exporter": "python",
   "pygments_lexer": "ipython3",
   "version": "3.7.5"
  }
 },
 "nbformat": 4,
 "nbformat_minor": 2
}
